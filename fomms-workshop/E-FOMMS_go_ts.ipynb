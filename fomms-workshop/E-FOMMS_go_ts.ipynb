{
 "cells": [
  {
   "cell_type": "markdown",
   "metadata": {
    "nteract": {
     "transient": {
      "deleting": false
     }
    }
   },
   "source": [
    "# Submission of Calculation with Subsequent Results Query\n",
    "\n",
    "In this demo, we will submit a calculation, check the status of the job and query the results after it is finished."
   ]
  },
  {
   "cell_type": "markdown",
   "metadata": {},
   "source": [
    "## Initialization of Workspace "
   ]
  },
  {
   "cell_type": "markdown",
   "metadata": {},
   "source": [
    "Specify the Azure quantum workspace and the 'connection string' which allows us to connect to the workspace"
   ]
  },
  {
   "cell_type": "code",
   "execution_count": null,
   "metadata": {
    "collapsed": false,
    "jupyter": {
     "outputs_hidden": false,
     "source_hidden": false
    },
    "nteract": {
     "transient": {
      "deleting": false
     }
    }
   },
   "outputs": [],
   "source": [
    "from azure.quantum import Workspace\n",
    "from azure.quantum.job import JobFailedWithResultsError\n",
    "\n",
    "# insert connection string from Azure Portal Workspace Access Keys\n",
    "connection_string = \"\" \n",
    "workspace = Workspace.from_connection_string(connection_string)"
   ]
  },
  {
   "cell_type": "code",
   "execution_count": null,
   "metadata": {
    "collapsed": false,
    "jupyter": {
     "outputs_hidden": false,
     "source_hidden": false
    },
    "nteract": {
     "transient": {
      "deleting": false
     }
    }
   },
   "outputs": [],
   "source": [
    "# To submit Accelerated DFT jobs, we will be using the microsoft.dft target in the workspace.\n",
    "print(\"Verifying access to Accelerated DFT target.\")\n",
    "target = workspace.get_targets(\"microsoft.dft\")\n",
    "print(\"Verification complete.\")"
   ]
  },
  {
   "cell_type": "markdown",
   "metadata": {},
   "source": [
    "## Define Input and Submit Accelerated DFT job"
   ]
  },
  {
   "cell_type": "code",
   "execution_count": null,
   "metadata": {
    "collapsed": false,
    "jupyter": {
     "outputs_hidden": false,
     "source_hidden": false
    },
    "nteract": {
     "transient": {
      "deleting": false
     }
    }
   },
   "outputs": [],
   "source": [
    "# First, let's define the molecular structure, loaded from an xyz file.\n",
    "from pathlib import Path\n",
    "GeomFile = \"molecules/sih4.xyz\""
   ]
  },
  {
   "cell_type": "code",
   "execution_count": null,
   "metadata": {},
   "outputs": [],
   "source": [
    "# Secondly, let's give a name for the job.\n",
    "job_name = 'sih4_go_ts'"
   ]
  },
  {
   "cell_type": "markdown",
   "metadata": {
    "nteract": {
     "transient": {
      "deleting": false
     }
    }
   },
   "source": [
    "Now we submit the calculations to MADFT service."
   ]
  },
  {
   "cell_type": "code",
   "execution_count": null,
   "metadata": {
    "collapsed": false,
    "jupyter": {
     "outputs_hidden": false,
     "source_hidden": false
    },
    "nteract": {
     "transient": {
      "deleting": false
     }
    }
   },
   "outputs": [],
   "source": [
    "# Next, we create a dictionary variable to specify the parameters for the DFT calculation.\n",
    "\n",
    "dft_input_params = {\n",
    "  \"tasks\": [\n",
    "    {\n",
    "      \"taskType\": \"go\", \n",
    "      \"basisSet\": { \"name\": 'def2-svpd'},\n",
    "      \"xcFunctional\": { \"name\": \"b3lyp\", \"gridLevel\": 4 },\n",
    "      \"molecule\": { \"charge\": 0, \"multiplicity\": 1 },\n",
    "      \"scf\": { \"method\": \"rks\", \"maxSteps\": 100, \"convergeThreshold\": 1e-8 },\n",
    "      # We can optionally adjust the convergence criteria for the energy, gradient and displacement:\n",
    "      # (see https://geometric.readthedocs.io/en/latest/options.html)  \n",
    "      \"geometryOptimization\": {\"transition\": True, \"convergence_energy\": 1e-5, \"convergence_grms\": 1.7e-3, \"convergence_gmax\": 2.5e-3, \"convergence_drms\": 6.7e-3, \"convergence_dmax\": 1.0e-2 }\n",
    "    }\n",
    "  ]\n",
    "}\n",
    "\n",
    "# We are now ready to submit the Job using the target.submit call. It takes three parameters-\n",
    "# 1. The input molecule in xyz format.\n",
    "# 2. The DFT parameters that we declared above.\n",
    "# 3. A friendly name to help identify the job in the Azure Portal later.\n",
    "\n",
    "print(\"Submitting DFT job.\")\n",
    "\n",
    "job = target.submit(\n",
    "    input_data=Path(GeomFile).read_text(),\n",
    "    input_params = dft_input_params,\n",
    "    name= job_name)\n",
    "    \n",
    "print(\"\\nDFT job has been submitted.\")\n",
    "print(f\"\\nJob name: {job_name}\")\n"
   ]
  },
  {
   "cell_type": "markdown",
   "metadata": {},
   "source": [
    "Show the status of the job. If the job has finished, read the results of the job"
   ]
  },
  {
   "cell_type": "code",
   "execution_count": null,
   "metadata": {
    "collapsed": false,
    "jupyter": {
     "outputs_hidden": false,
     "source_hidden": false
    },
    "nteract": {
     "transient": {
      "deleting": false
     }
    }
   },
   "outputs": [],
   "source": [
    "job.refresh()\n",
    "print(f'Job: \"{job_name}\" is {job.details.status}')\n",
    "if job.details.status == 'Succeeded':\n",
    "    qcschema = job.get_results()[\"results\"][0]"
   ]
  },
  {
   "cell_type": "markdown",
   "metadata": {},
   "source": [
    "## Output to QCSchema json file"
   ]
  },
  {
   "cell_type": "code",
   "execution_count": null,
   "metadata": {},
   "outputs": [],
   "source": [
    "import json\n",
    "qcschema_json = job_name + \"_output.json\"\n",
    "with open(qcschema_json, \"w\") as fp:\n",
    "    json.dump(qcschema, fp)"
   ]
  },
  {
   "cell_type": "markdown",
   "metadata": {},
   "source": [
    "## Results"
   ]
  },
  {
   "cell_type": "markdown",
   "metadata": {},
   "source": [
    "The results of the calculation are stored in the QCSchema format dict.\n",
    "\n",
    "We can print the energy of the optimized structure:"
   ]
  },
  {
   "cell_type": "code",
   "execution_count": null,
   "metadata": {},
   "outputs": [],
   "source": [
    "print(\"Total Energy of optimized geometry (Hartree): \", qcschema[\"energies\"][-1])"
   ]
  },
  {
   "cell_type": "code",
   "execution_count": null,
   "metadata": {},
   "outputs": [],
   "source": [
    "qcschema['provenance']['total_time_seconds']"
   ]
  },
  {
   "cell_type": "markdown",
   "metadata": {},
   "source": [
    "We can print the coordinates of the optimized geometry. Note that QCSchema output uses Bohr."
   ]
  },
  {
   "cell_type": "code",
   "execution_count": null,
   "metadata": {
    "collapsed": false,
    "jupyter": {
     "outputs_hidden": false,
     "source_hidden": false
    },
    "nteract": {
     "transient": {
      "deleting": false
     }
    }
   },
   "outputs": [],
   "source": [
    "import numpy as np\n",
    "coords = np.array(qcschema[\"final_molecule\"][\"geometry\"] )\n",
    "print( np.reshape(coords, (-1,3)) )"
   ]
  },
  {
   "cell_type": "markdown",
   "metadata": {},
   "source": [
    "Let us save the optimized geometry as an xyz file (and convert to Angstrom) so that we can easily view it and read in for subsequent calculations."
   ]
  },
  {
   "cell_type": "code",
   "execution_count": null,
   "metadata": {},
   "outputs": [],
   "source": [
    "from tools.libqcschema import *\n",
    "# convert to Angstrom\n",
    "opt_xyz = load_qcschema_final_molecule(qcschema, to_Angstrom = True, xyz=True)\n",
    "print(opt_xyz)\n",
    "geom_opt_file = \"phenol_optimized_geometry.xyz\"\n",
    "with open(geom_opt_file,'w') as f:\n",
    "    f.write(opt_xyz)\n"
   ]
  },
  {
   "cell_type": "markdown",
   "metadata": {},
   "source": [
    "Let us view the optimized geometry..."
   ]
  },
  {
   "cell_type": "code",
   "execution_count": null,
   "metadata": {},
   "outputs": [],
   "source": [
    "# For visualization of molecules and orbitals:\n",
    "import py3Dmol\n",
    "\n",
    "data = None\n",
    "with open(geom_opt_file, \"r\") as infile:\n",
    "    data = infile.read()\n",
    "\n",
    "view = py3Dmol.view()\n",
    "view.addModel(data)\n",
    "view.setStyle({\"stick\": {}})\n",
    "# if you prefer ball and stick molecules:\n",
    "#view.setStyle({\"stick\":{},\"sphere\": {\"scale\":0.25}})\n",
    "view.show()"
   ]
  }
 ],
 "metadata": {
  "kernel_info": {
   "name": "python3"
  },
  "kernelspec": {
   "display_name": "Python [conda env:.conda-fomms2]",
   "language": "python",
   "name": "conda-env-.conda-fomms2-py"
  },
  "language_info": {
   "codemirror_mode": {
    "name": "ipython",
    "version": 3
   },
   "file_extension": ".py",
   "mimetype": "text/x-python",
   "name": "python",
   "nbconvert_exporter": "python",
   "pygments_lexer": "ipython3",
   "version": "3.11.9"
  },
  "nteract": {
   "version": "nteract-front-end@1.0.0"
  }
 },
 "nbformat": 4,
 "nbformat_minor": 4
}

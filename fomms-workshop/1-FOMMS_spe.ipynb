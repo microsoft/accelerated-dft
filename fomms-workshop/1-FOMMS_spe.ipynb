{
 "cells": [
  {
   "cell_type": "markdown",
   "metadata": {
    "nteract": {
     "transient": {
      "deleting": false
     }
    }
   },
   "source": [
    "# Submission of Calculation with Subsequent Results Query\n",
    "\n",
    "In this demo, we will submit a calculation, check the status of the job and query the results after it is finished."
   ]
  },
  {
   "cell_type": "markdown",
   "metadata": {},
   "source": [
    "## Initialization of Workspace "
   ]
  },
  {
   "cell_type": "markdown",
   "metadata": {},
   "source": [
    "Specify the Azure quantum workspace and the 'connection string' which allows us to connect to the workspace"
   ]
  },
  {
   "cell_type": "code",
   "execution_count": null,
   "metadata": {
    "collapsed": false,
    "jupyter": {
     "outputs_hidden": false,
     "source_hidden": false
    },
    "nteract": {
     "transient": {
      "deleting": false
     }
    }
   },
   "outputs": [],
   "source": [
    "from azure.quantum import Workspace\n",
    "from azure.quantum.job import JobFailedWithResultsError\n",
    "\n",
    "# insert connection string from Azure Portal Workspace Access Keys\n",
    "connection_string = \"\" \n",
    "workspace = Workspace.from_connection_string(connection_string)"
   ]
  },
  {
   "cell_type": "code",
   "execution_count": null,
   "metadata": {
    "collapsed": false,
    "jupyter": {
     "outputs_hidden": false,
     "source_hidden": false
    },
    "nteract": {
     "transient": {
      "deleting": false
     }
    }
   },
   "outputs": [],
   "source": [
    "# To submit Accelerated DFT jobs, we will be using the microsoft.dft target in the workspace.\n",
    "print(\"Verifying access to Accelerated DFT target.\")\n",
    "target = workspace.get_targets(\"microsoft.dft\")\n",
    "print(\"Verification complete.\")"
   ]
  },
  {
   "cell_type": "markdown",
   "metadata": {},
   "source": [
    "## Define Input and Submit Accelerated DFT job"
   ]
  },
  {
   "cell_type": "code",
   "execution_count": null,
   "metadata": {
    "collapsed": false,
    "jupyter": {
     "outputs_hidden": false,
     "source_hidden": false
    },
    "nteract": {
     "transient": {
      "deleting": false
     }
    }
   },
   "outputs": [],
   "source": [
    "# First, let's define the molecular structure, loaded from an xyz file.\n",
    "from pathlib import Path\n",
    "GeomFile = \"molecules/aspirin.xyz\""
   ]
  },
  {
   "cell_type": "code",
   "execution_count": null,
   "metadata": {},
   "outputs": [],
   "source": [
    "# Secondly, let's give a name for the job.\n",
    "job_name = 'aspirin_spe'"
   ]
  },
  {
   "cell_type": "code",
   "execution_count": null,
   "metadata": {
    "collapsed": false,
    "jupyter": {
     "outputs_hidden": false,
     "source_hidden": false
    },
    "nteract": {
     "transient": {
      "deleting": false
     }
    }
   },
   "outputs": [],
   "source": [
    "# Next, we create a dictionary variable to specify the parameters for the DFT calculation. \n",
    "dft_input_params = {\n",
    "  \"tasks\": [\n",
    "    {\n",
    "      \"taskType\": \"spe\", \n",
    "      \"basisSet\": { \"name\": 'def2-svpd'},\n",
    "      \"xcFunctional\": { \"name\": \"b3lyp\", \"gridLevel\": 4 },\n",
    "      \"molecule\": { \"charge\": 0, \"multiplicity\": 1 },\n",
    "      \"scf\": { \"method\": \"rks\", \"maxSteps\": 100, \"convergeThreshold\": 1e-8, \"requireWaveFunction\": True }\n",
    "      # example with PCM solvent and D3 dispersion correction\n",
    "      #\"scf\":{\"method\":\"rks\",\"dispersion\":\"d3zero\",\"convergeThreshold\":1e-8,\"pcm\":{\"solverType\":\"iefpcm\",\"solvent\":\"water\"}}\n",
    "    }\n",
    "  ]\n",
    "}\n",
    "\n",
    "# We are now ready to submit the Job using the target.submit call. It takes three parameters-\n",
    "# 1. The input molecule in xyz format.\n",
    "# 2. The DFT parameters that we declared above.\n",
    "# 3. A friendly name to help identify the job in the Azure Portal later.\n",
    "\n",
    "print(\"Submitting DFT job.\")\n",
    "\n",
    "job = target.submit(\n",
    "    input_data=Path(GeomFile).read_text(),\n",
    "    input_params = dft_input_params,\n",
    "    name= job_name)\n",
    "    \n",
    "print(\"\\nDFT job has been submitted.\")\n",
    "print(f\"\\nJob name: {job_name}\")\n"
   ]
  },
  {
   "cell_type": "markdown",
   "metadata": {},
   "source": [
    "Show the status of the job. If the job has finished, read the results of the job"
   ]
  },
  {
   "cell_type": "code",
   "execution_count": null,
   "metadata": {
    "collapsed": false,
    "jupyter": {
     "outputs_hidden": false,
     "source_hidden": false
    },
    "nteract": {
     "transient": {
      "deleting": false
     }
    }
   },
   "outputs": [],
   "source": [
    "job.refresh()\n",
    "print(f'Job: \"{job_name}\" is {job.details.status}')\n",
    "if job.details.status == 'Succeeded':\n",
    "    qcschema = job.get_results()[\"results\"][0]"
   ]
  },
  {
   "cell_type": "markdown",
   "metadata": {},
   "source": [
    "## Results"
   ]
  },
  {
   "cell_type": "markdown",
   "metadata": {},
   "source": [
    "The results of the calculation are stored in the QCSchema format dict.\n",
    "\n",
    "For an SPE calculation we can see the energy by simply looking at the key \"return_result\".\n",
    "(For SPF calculations, this key returns the force)"
   ]
  },
  {
   "cell_type": "code",
   "execution_count": null,
   "metadata": {},
   "outputs": [],
   "source": [
    "print(\"SPE Result: \",qcschema[\"return_result\"])"
   ]
  },
  {
   "cell_type": "markdown",
   "metadata": {},
   "source": [
    "Other useful information is stored in the output dict, for example:"
   ]
  },
  {
   "cell_type": "code",
   "execution_count": null,
   "metadata": {},
   "outputs": [],
   "source": [
    "print(\"Number of Basis Functions: \", qcschema[\"properties\"][\"calcinfo_nbasis\"])\n",
    "print(\"Total Energy (Hartree): \", qcschema[\"properties\"][\"return_energy\"])\n",
    "print(\"Nuclear Repulsion Energy (Hartree): \", qcschema[\"properties\"][\"nuclear_repulsion_energy\"])\n",
    "print(\"Total Calculation Time (s): \", qcschema[\"provenance\"][\"total_time_seconds\"])"
   ]
  },
  {
   "cell_type": "markdown",
   "metadata": {},
   "source": [
    "The output can be explored using qcschema.keys()\n",
    "\n",
    "Wavefunction information is also saved in the output if \"requireWaveFunction\": True was set.\n",
    "The \"wavefunction\" key contains orbitals, orbital energies, orbital occupancies, and Fock matrices.\n",
    "This will be used in our later examples for property calculations."
   ]
  },
  {
   "cell_type": "markdown",
   "metadata": {},
   "source": [
    "### Output Results to QCSchema json file"
   ]
  },
  {
   "cell_type": "markdown",
   "metadata": {},
   "source": [
    "Saving to a json-formatted file makes it easy to read/write/visualize the QCSchema key structure.  "
   ]
  },
  {
   "cell_type": "code",
   "execution_count": null,
   "metadata": {},
   "outputs": [],
   "source": [
    "import json\n",
    "qcschema_json = job_name + \"_output.json\"\n",
    "with open(qcschema_json, \"w\") as fp:\n",
    "    json.dump(qcschema, fp)"
   ]
  },
  {
   "cell_type": "markdown",
   "metadata": {},
   "source": [
    "# Visualization and Property Calculation"
   ]
  },
  {
   "cell_type": "markdown",
   "metadata": {},
   "source": [
    "The key \"requireWaveFunction\": True in our input (above) instructs Accelerated DFT to store the wavefunction information.\n",
    "This is information can be easily read by PySCF an allows us to use PySCF property and visualization tools."
   ]
  },
  {
   "cell_type": "code",
   "execution_count": null,
   "metadata": {},
   "outputs": [],
   "source": [
    "import pyscf\n",
    "from tools.libqcschema import *\n",
    "from pyscf import gto, dft\n",
    "import json\n",
    "import numpy as np\n",
    "\n",
    "# Create PySCF DFT object\n",
    "mol, ks = recreate_scf_obj(qcschema)\n",
    "\n",
    "# note: PySCF prints 'ECP def2-svpd not found for  C' etc, this is expected."
   ]
  },
  {
   "cell_type": "markdown",
   "metadata": {},
   "source": [
    "We have now loaded the Accelerated DFT result into a PySCF object, we can now use PySCF tools to generate cube files. The cube files are used to view molecular orbitals and electron density (via py3Dmol)."
   ]
  },
  {
   "cell_type": "code",
   "execution_count": null,
   "metadata": {},
   "outputs": [],
   "source": [
    "# pyscf cube generation tool:\n",
    "from pyscf.tools import cubegen\n",
    "\n",
    "# For visualization of molecules and orbitals:\n",
    "import py3Dmol\n",
    "from tools.visualize import niceview"
   ]
  },
  {
   "cell_type": "markdown",
   "metadata": {},
   "source": [
    "## Molecular Orbitals"
   ]
  },
  {
   "cell_type": "markdown",
   "metadata": {},
   "source": [
    "Here we are visualizing the HOMO, which is the 47th orbital (index 46 when starting counting from 0)"
   ]
  },
  {
   "cell_type": "code",
   "execution_count": null,
   "metadata": {},
   "outputs": [],
   "source": [
    "# index of the orbital of interest (starting from 0):\n",
    "mo_index = 46\n",
    "\n",
    "mo_file = 'mo.cube'\n",
    "cubegen.orbital(mol, mo_file, ks.mo_coeff[:,mo_index])\n",
    "\n",
    "data = None\n",
    "with open(mo_file, \"r\") as infile:\n",
    "    data = infile.read()\n",
    "    \n",
    "view = py3Dmol.view()\n",
    "niceview(view,data)\n",
    "view.addModel(data, \"cube\")\n",
    "view.setStyle({\"stick\": {}})\n",
    "view.zoomTo()\n",
    "view.show()"
   ]
  },
  {
   "cell_type": "markdown",
   "metadata": {},
   "source": [
    "### Aside: How to tell which orbitals are the HOMO/LUMO?\n",
    "There are a few options:\n",
    "\n",
    "1. look at the occupations of alpha and beta electrons in qcschema[\"wavefunction\"][\"scf_occupations_a\"] and qcschema[\"wavefunction\"][\"scf_occupations_b\"].\n",
    "2. Look at the number of alpha and beta electrons using qcschema[\"properties\"][\"calcinfo_nalpha\"] and qcschema[\"properties\"][\"calcinfo_nbeta\"] and the spin\n",
    "3. Use Mulliken analysis and look at the populations"
   ]
  },
  {
   "cell_type": "code",
   "execution_count": null,
   "metadata": {},
   "outputs": [],
   "source": [
    "# For this closed shell system (number of alpha electrons = number of beta electrons):\n",
    "for i in range(len(qcschema[\"wavefunction\"][\"scf_occupations_a\"])):\n",
    "    if(qcschema[\"wavefunction\"][\"scf_occupations_a\"][i] < 1.0):\n",
    "        LUMO = i\n",
    "        HOMO = i-1\n",
    "        break\n",
    "\n",
    "gap = qcschema[\"wavefunction\"][\"scf_eigenvalues_a\"][HOMO] - qcschema[\"wavefunction\"][\"scf_eigenvalues_a\"][LUMO]\n",
    "print(\"HOMO index: \",HOMO)\n",
    "print(\"LUMO index: \",LUMO)\n",
    "print(f\"HOMO-LUMO gap: {gap:.6f}\",\" Hartree\")"
   ]
  },
  {
   "cell_type": "markdown",
   "metadata": {},
   "source": [
    "# Property Calculation: RESP Charges"
   ]
  },
  {
   "cell_type": "markdown",
   "metadata": {},
   "source": [
    "We can compute partitioned atomic charges in several ways, including Mulliken charges, CHELPG charges and RESP charges.\n",
    "In this example we use RESP charges."
   ]
  },
  {
   "cell_type": "markdown",
   "metadata": {},
   "source": [
    "## RESP Charges"
   ]
  },
  {
   "cell_type": "code",
   "execution_count": null,
   "metadata": {},
   "outputs": [],
   "source": [
    "import tools.resp\n",
    "from tools.resp import resp\n",
    "\n",
    "q_resp = resp(ks)\n",
    "print(\"charges: \", q_resp)\n"
   ]
  },
  {
   "cell_type": "markdown",
   "metadata": {},
   "source": [
    "We can see the assigned charges more easily with a diagram from rdkit"
   ]
  },
  {
   "cell_type": "code",
   "execution_count": null,
   "metadata": {},
   "outputs": [],
   "source": [
    "from rdkit import Chem\n",
    "from rdkit.Chem.Draw import IPythonConsole\n",
    "from rdkit.Chem import Draw\n",
    "from rdkit.Chem import rdDetermineBonds\n",
    "IPythonConsole.drawOptions.addAtomIndices = False\n",
    "IPythonConsole.molSize = 300,300\n",
    "\n",
    "raw_mol = Chem.MolFromXYZFile('molecules/aspirin.xyz')\n",
    "mol = Chem.Mol(raw_mol)\n",
    "rdDetermineBonds.DetermineConnectivity(mol)\n",
    "\n",
    "# For each atom, get the charge computed with CHELPG/RESP\n",
    "for atom in mol.GetAtoms():\n",
    "    index = atom.GetIdx()\n",
    "    pchrg = q_resp[index]\n",
    "    atom.SetProp(\"atomNote\", str(round(pchrg, 2))) #str(pchrg))\n",
    "    \n",
    "mol"
   ]
  },
  {
   "cell_type": "code",
   "execution_count": null,
   "metadata": {},
   "outputs": [],
   "source": []
  }
 ],
 "metadata": {
  "kernel_info": {
   "name": "python3"
  },
  "kernelspec": {
   "display_name": "Python [conda env:.conda-fomms2]",
   "language": "python",
   "name": "conda-env-.conda-fomms2-py"
  },
  "language_info": {
   "codemirror_mode": {
    "name": "ipython",
    "version": 3
   },
   "file_extension": ".py",
   "mimetype": "text/x-python",
   "name": "python",
   "nbconvert_exporter": "python",
   "pygments_lexer": "ipython3",
   "version": "3.11.9"
  },
  "nteract": {
   "version": "nteract-front-end@1.0.0"
  }
 },
 "nbformat": 4,
 "nbformat_minor": 4
}

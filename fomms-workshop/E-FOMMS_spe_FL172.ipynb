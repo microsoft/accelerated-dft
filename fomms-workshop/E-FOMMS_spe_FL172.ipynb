{
 "cells": [
  {
   "cell_type": "markdown",
   "metadata": {
    "nteract": {
     "transient": {
      "deleting": false
     }
    }
   },
   "source": [
    "# Submission of Calculation with Subsequent Results Query\n",
    "\n",
    "In this demo, we will submit a calculation, check the status of the job and query the results after it is finished.\n",
    "Our initial geometry is read from an xyz file."
   ]
  },
  {
   "cell_type": "markdown",
   "metadata": {},
   "source": [
    "## Initialization of Workspace "
   ]
  },
  {
   "cell_type": "markdown",
   "metadata": {},
   "source": [
    "Specify the Azure quantum workspace and the 'connection string' which allows us to connect to the workspace"
   ]
  },
  {
   "cell_type": "code",
   "execution_count": null,
   "metadata": {
    "collapsed": false,
    "jupyter": {
     "outputs_hidden": false,
     "source_hidden": false
    },
    "nteract": {
     "transient": {
      "deleting": false
     }
    }
   },
   "outputs": [],
   "source": [
    "from azure.quantum import Workspace\n",
    "from azure.quantum.job import JobFailedWithResultsError\n",
    "\n",
    "# insert connection string from Azure Portal Workspace Access Keys\n",
    "connection_string = \"\"\n",
    "workspace = Workspace.from_connection_string(connection_string)"
   ]
  },
  {
   "cell_type": "code",
   "execution_count": null,
   "metadata": {
    "collapsed": false,
    "jupyter": {
     "outputs_hidden": false,
     "source_hidden": false
    },
    "nteract": {
     "transient": {
      "deleting": false
     }
    }
   },
   "outputs": [],
   "source": [
    "# To submit Accelerated DFT jobs, we will be using the microsoft.dft target in the workspace.\n",
    "print(\"Verifying access to Accelerated DFT target.\")\n",
    "target = workspace.get_targets(\"microsoft.dft\")\n",
    "print(\"Verification complete.\")"
   ]
  },
  {
   "cell_type": "markdown",
   "metadata": {},
   "source": [
    "This example is an form of FL172, which contains an Ru atom"
   ]
  },
  {
   "cell_type": "code",
   "execution_count": null,
   "metadata": {
    "collapsed": false,
    "jupyter": {
     "outputs_hidden": false,
     "source_hidden": false
    },
    "nteract": {
     "transient": {
      "deleting": false
     }
    }
   },
   "outputs": [],
   "source": [
    "# First, let's define the molecular structure, loaded from an xyz file.\n",
    "from pathlib import Path\n",
    "GeomFile = \"molecules/FL172.xyz\""
   ]
  },
  {
   "cell_type": "code",
   "execution_count": null,
   "metadata": {},
   "outputs": [],
   "source": [
    "# For visualization of molecules and orbitals:\n",
    "import py3Dmol\n",
    "\n",
    "data = None\n",
    "with open(GeomFile, \"r\") as infile:\n",
    "    data = infile.read()\n",
    "\n",
    "view = py3Dmol.view()\n",
    "view.addModel(data)\n",
    "view.setStyle({\"stick\": {}})\n",
    "# if you prefer ball and stick molecules:\n",
    "#view.setStyle({\"stick\":{},\"sphere\": {\"scale\":0.25}})\n",
    "view.show()"
   ]
  },
  {
   "cell_type": "code",
   "execution_count": null,
   "metadata": {},
   "outputs": [],
   "source": [
    "# Secondly, let's give a name for the job.\n",
    "job_name = 'FL172_spe'"
   ]
  },
  {
   "cell_type": "markdown",
   "metadata": {
    "nteract": {
     "transient": {
      "deleting": false
     }
    }
   },
   "source": [
    "Now we submit the calculations to MADFT service."
   ]
  },
  {
   "cell_type": "code",
   "execution_count": null,
   "metadata": {
    "collapsed": false,
    "jupyter": {
     "outputs_hidden": false,
     "source_hidden": false
    },
    "nteract": {
     "transient": {
      "deleting": false
     }
    }
   },
   "outputs": [],
   "source": [
    "# Next, we create a dictionary variable to specify the parameters for the DFT calculation.\n",
    "\n",
    "# The def2-tzvpp basis is large and for Ru contains up to g functions.\n",
    "\n",
    "dft_input_params = {\n",
    "  \"tasks\": [\n",
    "    {\n",
    "      \"taskType\": \"spe\",\n",
    "      \"basisSet\": { \"name\": 'def2-tzvpp'}, \n",
    "      \"xcFunctional\": { \"name\": \"m06-2x\", \"gridLevel\": 4 },\n",
    "      \"molecule\": { \"charge\": 0, \"multiplicity\": 1 },\n",
    "      \"scf\":{\"method\":\"rks\",\"dispersion\":\"d3zero\",\"convergeThreshold\":1e-8, \"requireWaveFunction\": True}\n",
    "    }\n",
    "  ]\n",
    "}\n",
    "\n",
    "# We are now ready to submit the Job using the target.submit call. It takes three parameters-\n",
    "# 1. The input molecule in xyz format.\n",
    "# 2. The DFT parameters that we declared above.\n",
    "# 3. A friendly name to help identify the job in the Azure Portal later.\n",
    "\n",
    "print(\"Submitting DFT job.\")\n",
    "\n",
    "job = target.submit(\n",
    "    input_data=Path(GeomFile).read_text(),\n",
    "    input_params = dft_input_params,\n",
    "    name= job_name)\n",
    "    \n",
    "print(\"\\nDFT job has been submitted.\")\n",
    "print(f\"\\nJob name: {job_name}\")\n"
   ]
  },
  {
   "cell_type": "markdown",
   "metadata": {},
   "source": [
    "Show the status of the job. If the job has finished, read the results of the job"
   ]
  },
  {
   "cell_type": "code",
   "execution_count": null,
   "metadata": {
    "collapsed": false,
    "jupyter": {
     "outputs_hidden": false,
     "source_hidden": false
    },
    "nteract": {
     "transient": {
      "deleting": false
     }
    }
   },
   "outputs": [],
   "source": [
    "job.refresh()\n",
    "print(f'Job: \"{job_name}\" is {job.details.status}')\n",
    "if job.details.status == 'Succeeded':\n",
    "    qcschema = job.get_results()[\"results\"][0]"
   ]
  },
  {
   "cell_type": "markdown",
   "metadata": {},
   "source": [
    "The results of the calculation are stored in the QCSchema format dict.\n",
    "\n",
    "For an SPE calculation we can see the energy by simply looking at the key \"return_result\".\n",
    "(For SPF calculations, this key returns the force)"
   ]
  },
  {
   "cell_type": "code",
   "execution_count": null,
   "metadata": {},
   "outputs": [],
   "source": [
    "print(\"SPE Result: \",qcschema[\"return_result\"])"
   ]
  },
  {
   "cell_type": "code",
   "execution_count": null,
   "metadata": {},
   "outputs": [],
   "source": [
    "print(\"Number of Basis Functions: \", qcschema[\"properties\"][\"calcinfo_nbasis\"])\n",
    "print(\"Total Energy (Hartree): \", qcschema[\"properties\"][\"return_energy\"])\n",
    "print(\"Nuclear Repulsion Energy (Hartree): \", qcschema[\"properties\"][\"nuclear_repulsion_energy\"])\n",
    "print(\"Total Calculation Time (s): \", qcschema[\"provenance\"][\"total_time_seconds\"])"
   ]
  },
  {
   "cell_type": "markdown",
   "metadata": {},
   "source": [
    "The output can be explored using qcschema.keys()\n",
    "\n",
    "Wavefunction information is also saved in the output if \"requireWaveFunction\": True was set.\n",
    "The \"wavefunction\" key contains orbitals, orbital energies, orbital occupancies, and Fock matrices.\n",
    "This will be used in our later examples for property calculations."
   ]
  },
  {
   "cell_type": "markdown",
   "metadata": {},
   "source": [
    "## Output to QCSchema json file"
   ]
  },
  {
   "cell_type": "code",
   "execution_count": null,
   "metadata": {},
   "outputs": [],
   "source": [
    "import json\n",
    "qcschema_json = job_name + \"_output.json\"\n",
    "with open(qcschema_json, \"w\") as fp:\n",
    "    json.dump(qcschema, fp)"
   ]
  }
 ],
 "metadata": {
  "kernel_info": {
   "name": "python3"
  },
  "kernelspec": {
   "display_name": "Python [conda env:.conda-fomms2]",
   "language": "python",
   "name": "conda-env-.conda-fomms2-py"
  },
  "language_info": {
   "codemirror_mode": {
    "name": "ipython",
    "version": 3
   },
   "file_extension": ".py",
   "mimetype": "text/x-python",
   "name": "python",
   "nbconvert_exporter": "python",
   "pygments_lexer": "ipython3",
   "version": "3.11.9"
  },
  "nteract": {
   "version": "nteract-front-end@1.0.0"
  }
 },
 "nbformat": 4,
 "nbformat_minor": 4
}

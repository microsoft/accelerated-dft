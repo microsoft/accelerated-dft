{
 "cells": [
  {
   "cell_type": "markdown",
   "metadata": {
    "nteract": {
     "transient": {
      "deleting": false
     }
    }
   },
   "source": [
    "# Submission of Calculation with Subsequent Results Query\n",
    "\n",
    "In this demo, we will submit a calculation, check the status of the job and query the results after it is finished."
   ]
  },
  {
   "cell_type": "markdown",
   "metadata": {},
   "source": [
    "## Initialization of Workspace "
   ]
  },
  {
   "cell_type": "markdown",
   "metadata": {},
   "source": [
    "Specify the Azure quantum workspace and the 'connection string' which allows us to connect to the workspace"
   ]
  },
  {
   "cell_type": "code",
   "execution_count": null,
   "metadata": {
    "collapsed": false,
    "jupyter": {
     "outputs_hidden": false,
     "source_hidden": false
    },
    "nteract": {
     "transient": {
      "deleting": false
     }
    }
   },
   "outputs": [],
   "source": [
    "from azure.quantum import Workspace\n",
    "from azure.quantum.job import JobFailedWithResultsError\n",
    "\n",
    "# insert connection string from Azure Portal Workspace Access Keys\n",
    "connection_string = \"\" \n",
    "workspace = Workspace.from_connection_string(connection_string)"
   ]
  },
  {
   "cell_type": "code",
   "execution_count": null,
   "metadata": {
    "collapsed": false,
    "jupyter": {
     "outputs_hidden": false,
     "source_hidden": false
    },
    "nteract": {
     "transient": {
      "deleting": false
     }
    }
   },
   "outputs": [],
   "source": [
    "# To submit Accelerated DFT jobs, we will be using the microsoft.dft target in the workspace.\n",
    "print(\"Verifying access to Accelerated DFT target.\")\n",
    "target = workspace.get_targets(\"microsoft.dft\")\n",
    "print(\"Verification complete.\")"
   ]
  },
  {
   "cell_type": "markdown",
   "metadata": {},
   "source": [
    "## Define Input and Submit Accelerated DFT job"
   ]
  },
  {
   "cell_type": "code",
   "execution_count": null,
   "metadata": {
    "collapsed": false,
    "jupyter": {
     "outputs_hidden": false,
     "source_hidden": false
    },
    "nteract": {
     "transient": {
      "deleting": false
     }
    }
   },
   "outputs": [],
   "source": [
    "# First, let's define the molecular structure, loaded from an xyz file.\n",
    "from pathlib import Path\n",
    "GeomFile = \"molecules/C2H4.xyz\""
   ]
  },
  {
   "cell_type": "code",
   "execution_count": null,
   "metadata": {},
   "outputs": [],
   "source": [
    "# Secondly, let's give a name for the job.\n",
    "job_name = 'C2H4_fh'"
   ]
  },
  {
   "cell_type": "markdown",
   "metadata": {
    "nteract": {
     "transient": {
      "deleting": false
     }
    }
   },
   "source": [
    "Now we submit the calculations to MADFT service."
   ]
  },
  {
   "cell_type": "code",
   "execution_count": null,
   "metadata": {
    "collapsed": false,
    "jupyter": {
     "outputs_hidden": false,
     "source_hidden": false
    },
    "nteract": {
     "transient": {
      "deleting": false
     }
    }
   },
   "outputs": [],
   "source": [
    "# Next, we create a dictionary variable to specify the parameters for the DFT calculation. \n",
    "dft_input_params = {\n",
    "  \"tasks\": [\n",
    "    {\n",
    "      \"taskType\": \"fh\", \n",
    "      \"basisSet\": { \"name\": 'def2-svpd'},\n",
    "      \"xcFunctional\": { \"name\": \"b3lyp\", \"gridLevel\": 4 },\n",
    "      \"molecule\": { \"charge\": 0, \"multiplicity\": 1 },\n",
    "      \"scf\": { \"method\": \"rks\", \"maxSteps\": 100, \"convergeThreshold\": 1e-8, \"requireWaveFunction\": True }\n",
    "      # example with PCM solvent and D3 dispersion correction\n",
    "      #\"scf\":{\"method\":\"rks\",\"dispersion\":\"d3zero\",\"convergeThreshold\":1e-8,\"pcm\":{\"solverType\":\"iefpcm\",\"solvent\":\"water\"}}\n",
    "    }\n",
    "  ]\n",
    "}\n",
    "\n",
    "# We are now ready to submit the Job using the target.submit call. It takes three parameters-\n",
    "# 1. The input molecule in xyz format.\n",
    "# 2. The DFT parameters that we declared above.\n",
    "# 3. A friendly name to help identify the job in the Azure Portal later.\n",
    "\n",
    "print(\"Submitting DFT job.\")\n",
    "\n",
    "job = target.submit(\n",
    "    input_data=Path(GeomFile).read_text(),\n",
    "    input_params = dft_input_params,\n",
    "    name= job_name)\n",
    "    \n",
    "print(\"\\nDFT job has been submitted.\")\n",
    "print(f\"\\nJob name: {job_name}\")\n"
   ]
  },
  {
   "cell_type": "markdown",
   "metadata": {},
   "source": [
    "Show the status of the job. If the job has finished, read the results of the job"
   ]
  },
  {
   "cell_type": "code",
   "execution_count": null,
   "metadata": {
    "collapsed": false,
    "jupyter": {
     "outputs_hidden": false,
     "source_hidden": false
    },
    "nteract": {
     "transient": {
      "deleting": false
     }
    }
   },
   "outputs": [],
   "source": [
    "job.refresh()\n",
    "print(f'Job: \"{job_name}\" is {job.details.status}')\n",
    "if job.details.status == 'Succeeded':\n",
    "    qcschema = job.get_results()[\"results\"][0]"
   ]
  },
  {
   "cell_type": "markdown",
   "metadata": {},
   "source": [
    "## Results"
   ]
  },
  {
   "cell_type": "markdown",
   "metadata": {},
   "source": [
    "The results of the calculation are stored in the QCSchema format dict.\n",
    "\n",
    "For an FH calculation we can see the hessian by simply looking at the key \"return_result\"."
   ]
  },
  {
   "cell_type": "code",
   "execution_count": null,
   "metadata": {},
   "outputs": [],
   "source": [
    "#print(\"Hessian: \",qcschema[\"return_result\"])"
   ]
  },
  {
   "cell_type": "markdown",
   "metadata": {},
   "source": [
    "Other useful information is stored in the output dict, for example:"
   ]
  },
  {
   "cell_type": "code",
   "execution_count": null,
   "metadata": {},
   "outputs": [],
   "source": [
    "print(\"Number of Basis Functions: \", qcschema[\"properties\"][\"calcinfo_nbasis\"])\n",
    "print(\"Total Energy (Hartree): \", qcschema[\"properties\"][\"return_energy\"])\n",
    "print(\"Nuclear Repulsion Energy (Hartree): \", qcschema[\"properties\"][\"nuclear_repulsion_energy\"])\n",
    "print(\"Total Calculation Time (s): \", qcschema[\"provenance\"][\"total_time_seconds\"])"
   ]
  },
  {
   "cell_type": "markdown",
   "metadata": {},
   "source": [
    "Wavefunction information is also saved in the output if 'requireWavefunction: True' was set.\n",
    "The \"wavefunction\" key contains orbitals, orbital energies, orbital occupancies, and Fock matrices.\n",
    "This will be used in our later examples for property calculations."
   ]
  },
  {
   "cell_type": "markdown",
   "metadata": {},
   "source": [
    "## Output to QCSchema json file"
   ]
  },
  {
   "cell_type": "markdown",
   "metadata": {},
   "source": [
    "Saving to a json-formatted file makes it easy to read/write/visualize the QCSchema key structure.  "
   ]
  },
  {
   "cell_type": "code",
   "execution_count": null,
   "metadata": {},
   "outputs": [],
   "source": [
    "import json\n",
    "qcschema_json = job_name + \"_output.json\"\n",
    "with open(qcschema_json, \"w\") as fp:\n",
    "    json.dump(qcschema, fp)"
   ]
  },
  {
   "cell_type": "markdown",
   "metadata": {},
   "source": [
    "# Property Calculation: Infrared Spectrum"
   ]
  },
  {
   "cell_type": "markdown",
   "metadata": {},
   "source": [
    "Using the wavefunction information saved in the Accelerated DFT output, we can compute properties.\n",
    "Here is an example of an IR spectrum."
   ]
  },
  {
   "cell_type": "markdown",
   "metadata": {},
   "source": [
    "First we load the required packages and read the Accelerated DFT QCSchema result into the PySCF objects 'ks', 'mol' and 'hessian'"
   ]
  },
  {
   "cell_type": "code",
   "execution_count": null,
   "metadata": {},
   "outputs": [],
   "source": [
    "import pyscf\n",
    "from tools.libqcschema import *\n",
    "from pyscf import gto, dft\n",
    "from pyscf import hessian\n",
    "from pyscf.hessian.thermo import *\n",
    "from pyscf.prop import infrared\n",
    "import json\n",
    "import numpy as np\n",
    "\n",
    "# Create DFT object\n",
    "mol, ks = recreate_scf_obj(qcschema)\n",
    "\n",
    "# Form Hessian object and Load Hessian from QCSchema dict\n",
    "hessian = ks.Hessian()\n",
    "hessian.de = load_qcschema_hessian(qcschema)"
   ]
  },
  {
   "cell_type": "markdown",
   "metadata": {},
   "source": [
    "We then use the hessian to find the vibrational frequencies and normal modes."
   ]
  },
  {
   "cell_type": "code",
   "execution_count": null,
   "metadata": {},
   "outputs": [],
   "source": [
    "# Compute Vibrational Frequencies\n",
    "freq = harmonic_analysis(mol,hessian.de)\n",
    "dump_normal_mode(mol,freq)"
   ]
  },
  {
   "cell_type": "markdown",
   "metadata": {},
   "source": [
    "We also (optionally) compute the thermochemistry corrections such as zero point energy. "
   ]
  },
  {
   "cell_type": "code",
   "execution_count": null,
   "metadata": {},
   "outputs": [],
   "source": [
    "thermochem = thermo(ks,freq['freq_au'], 298.15)\n",
    "print(\"\")\n",
    "#print(\"Thermochem:\",thermochem)\n",
    "for i in thermochem.keys():\n",
    "    print(i, \" \", thermochem[i])"
   ]
  },
  {
   "cell_type": "markdown",
   "metadata": {},
   "source": [
    "We now have the vibrational frequencies which tells us the positions of the peaks in the IR spectrum. \n",
    "We now compute the intensities."
   ]
  },
  {
   "cell_type": "code",
   "execution_count": null,
   "metadata": {},
   "outputs": [],
   "source": [
    "###############################\n",
    "##### Compute IR Spectrum #####\n",
    "###############################\n",
    "\n",
    "# make IR object and populate with info\n",
    "ks_ir = prepare_ir(ks,hessian,freq)\n",
    "\n",
    "# compute IR intensities\n",
    "infrared.rhf.kernel_dipderiv(ks_ir)\n",
    "ir_intensity = infrared.rhf.kernel_ir(ks_ir)\n",
    "\n",
    "# Print summary\n",
    "ks_ir.summary()"
   ]
  },
  {
   "cell_type": "code",
   "execution_count": null,
   "metadata": {},
   "outputs": [],
   "source": [
    "import matplotlib as plt\n",
    "fig = ks_ir.plot_ir()[0]\n",
    "fig.show()\n",
    "fig.savefig(\"ir_spectrum_C2H4.png\")"
   ]
  },
  {
   "cell_type": "code",
   "execution_count": null,
   "metadata": {},
   "outputs": [],
   "source": []
  }
 ],
 "metadata": {
  "kernel_info": {
   "name": "python3"
  },
  "kernelspec": {
   "display_name": "Python [conda env:.conda-dft]",
   "language": "python",
   "name": "conda-env-.conda-dft-py"
  },
  "language_info": {
   "codemirror_mode": {
    "name": "ipython",
    "version": 3
   },
   "file_extension": ".py",
   "mimetype": "text/x-python",
   "name": "python",
   "nbconvert_exporter": "python",
   "pygments_lexer": "ipython3",
   "version": "3.11.8"
  },
  "nteract": {
   "version": "nteract-front-end@1.0.0"
  }
 },
 "nbformat": 4,
 "nbformat_minor": 4
}

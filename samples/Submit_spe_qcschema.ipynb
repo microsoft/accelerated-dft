{
 "cells": [
  {
   "cell_type": "markdown",
   "metadata": {
    "nteract": {
     "transient": {
      "deleting": false
     }
    }
   },
   "source": [
    "# Submission of Calculation with Subsequent Results Query\n",
    "\n",
    "In this demo, we will submit a calculation, check the status of the job and query the results after it is finished."
   ]
  },
  {
   "cell_type": "code",
   "execution_count": 21,
   "metadata": {
    "collapsed": false,
    "jupyter": {
     "outputs_hidden": false,
     "source_hidden": false
    },
    "nteract": {
     "transient": {
      "deleting": false
     }
    }
   },
   "outputs": [],
   "source": [
    "from azure.quantum import Workspace\n",
    "from azure.quantum.job import JobFailedWithResultsError\n",
    "\n",
    "# insert connection string form Azure Portal Workspace Access Keys\n",
    "connection_string = \"\"\n",
    "workspace = Workspace.from_connection_string(connection_string)"
   ]
  },
  {
   "cell_type": "code",
   "execution_count": 22,
   "metadata": {
    "collapsed": false,
    "jupyter": {
     "outputs_hidden": false,
     "source_hidden": false
    },
    "nteract": {
     "transient": {
      "deleting": false
     }
    }
   },
   "outputs": [
    {
     "name": "stdout",
     "output_type": "stream",
     "text": [
      "Verifying access to Accelerated DFT target.\n",
      "Verification complete.\n"
     ]
    }
   ],
   "source": [
    "# To submit Accelerated DFT jobs, we will be using the microsoft.dft target in the workspace.\n",
    "print(\"Verifying access to Accelerated DFT target.\")\n",
    "target = workspace.get_targets(\"microsoft.dft\")\n",
    "print(\"Verification complete.\")"
   ]
  },
  {
   "attachments": {},
   "cell_type": "markdown",
   "metadata": {
    "nteract": {
     "transient": {
      "deleting": false
     }
    }
   },
   "source": [
    "Now we submit the calculations to MADFT service.\n",
    "\n",
    "The QCSchema input below is for a DFT energy calculation on phenol (with the geometry in Bohr)."
   ]
  },
  {
   "cell_type": "code",
   "execution_count": 23,
   "metadata": {},
   "outputs": [],
   "source": [
    "qcschema_input = {\n",
    "    \"driver\": \"energy\",\n",
    "    \"model\": {\n",
    "        \"method\": \"m06-2x\",\n",
    "        \"basis\": \"def2-svp\"\n",
    "    },\n",
    "    \"schema_name\": \"qcschema_input\",\n",
    "    \"schema_version\": 1,\n",
    "    \"molecule\": {\n",
    "        \"extras\": {},\n",
    "        \"symbols\": [\n",
    "            \"O\",\n",
    "            \"C\",\n",
    "            \"C\",\n",
    "            \"C\",\n",
    "            \"C\",\n",
    "            \"C\",\n",
    "            \"C\",\n",
    "            \"H\",\n",
    "            \"H\",\n",
    "            \"H\",\n",
    "            \"H\",\n",
    "            \"H\",\n",
    "            \"H\"\n",
    "        ],\n",
    "        \"geometry\": [\n",
    "            4.730542147965709,\n",
    "            0.034826575331843086,\n",
    "            0.07810088784463559,\n",
    "            2.1361232242687977,\n",
    "            0.017709001458524106,\n",
    "            0.009088108672780787,\n",
    "            0.7996954919209014,\n",
    "            2.290483253979806,\n",
    "            0.10106814673106823,\n",
    "            -1.8298562750208616,\n",
    "            2.2732950799384737,\n",
    "            -0.04537958079912547,\n",
    "            -3.1327572801516967,\n",
    "            -0.00564083248182671,\n",
    "            -0.28742004920350506,\n",
    "            -1.790388872477789,\n",
    "            -2.271959799458856,\n",
    "            -0.38978844089184156,\n",
    "            0.8394687277399734,\n",
    "            -2.2656284043593296,\n",
    "            -0.24392044354214196,\n",
    "            5.279447115915874,\n",
    "            -0.07938333158181043,\n",
    "            1.8109098053069272,\n",
    "            1.8583211818406624,\n",
    "            4.051452964636673,\n",
    "            0.2691141588512759,\n",
    "            -2.8675310249318393,\n",
    "            4.053900197762506,\n",
    "            0.0241508699472927,\n",
    "            -5.190440656400895,\n",
    "            -0.014523603513912258,\n",
    "            -0.4052054313284032,\n",
    "            -2.796624853566738,\n",
    "            -4.060585444078858,\n",
    "            -0.5909607661605761,\n",
    "            1.9285725820008635,\n",
    "            -4.013248220398251,\n",
    "            -0.3415529925897059\n",
    "        ]\n",
    "    }\n",
    "}"
   ]
  },
  {
   "cell_type": "code",
   "execution_count": 25,
   "metadata": {},
   "outputs": [
    {
     "data": {
      "text/plain": [
       "<azure.quantum.target.microsoft.elements.dft.job.MicrosoftElementsDftJob at 0x7f8988bb8590>"
      ]
     },
     "execution_count": 25,
     "metadata": {},
     "output_type": "execute_result"
    }
   ],
   "source": [
    "# submit calculation using QCSchema input\n",
    "target.submit(input_data=[qcschema_input],name='phenol_energy')"
   ]
  },
  {
   "attachments": {},
   "cell_type": "markdown",
   "metadata": {},
   "source": [
    "# Query Job Status and Retreive Results"
   ]
  },
  {
   "cell_type": "markdown",
   "metadata": {
    "nteract": {
     "transient": {
      "deleting": false
     }
    }
   },
   "source": [
    "We can retrieve information about a job through [Workspace.get_job](https://learn.microsoft.com/en-us/azure/quantum/optimization-job-management), and also query the results by filtering the job name with [Workspace.list_jobs](https://learn.microsoft.com/en-us/azure/quantum/optimization-job-management)."
   ]
  },
  {
   "cell_type": "code",
   "execution_count": 7,
   "metadata": {
    "collapsed": false,
    "jupyter": {
     "outputs_hidden": false,
     "source_hidden": false
    },
    "nteract": {
     "transient": {
      "deleting": false
     }
    }
   },
   "outputs": [
    {
     "name": "stdout",
     "output_type": "stream",
     "text": [
      "Job: \"phenol_spf\" is Succeeded\n"
     ]
    }
   ],
   "source": [
    "# query the latest job that match the given name\n",
    "job = workspace.list_jobs(name_match=job_name)[-1]\n",
    "\n",
    "# refresh the job SAS for using the API\n",
    "job.refresh()\n",
    "\n",
    "# show the status of the job\n",
    "print(f'Job: \"{job_name}\" is {job.details.status}')"
   ]
  },
  {
   "cell_type": "code",
   "execution_count": 14,
   "metadata": {
    "collapsed": false,
    "jupyter": {
     "outputs_hidden": false,
     "source_hidden": false
    },
    "nteract": {
     "transient": {
      "deleting": false
     }
    }
   },
   "outputs": [],
   "source": [
    "# read the results of the job\n",
    "if job.details.status == 'Succeeded':\n",
    "    results = job.get_results()\n",
    "else:\n",
    "    results = f'\"{job_name}\" is still {job.details.status}...'\n",
    "\n",
    "# QCSchema Output\n",
    "qcschema = results[\"results\"][0]"
   ]
  },
  {
   "attachments": {},
   "cell_type": "markdown",
   "metadata": {},
   "source": [
    "# Results"
   ]
  },
  {
   "attachments": {},
   "cell_type": "markdown",
   "metadata": {},
   "source": [
    "The results of the calculation are stored in the QCSchema format dict.\n",
    "\n",
    "For an energy calculation we can see the energy by simply looking at the key \"return_result\".\n",
    "(For gradient calculations, this key returns the force.)"
   ]
  },
  {
   "cell_type": "code",
   "execution_count": 12,
   "metadata": {},
   "outputs": [
    {
     "name": "stdout",
     "output_type": "stream",
     "text": [
      "Total Energy (Hartree):  -307.12139651020345\n",
      "Gradient:  [-0.002197471210684823, 0.00029306318218704636, -0.0035252897749837586, 0.00572408645715828, -5.241742714710666e-05, 0.0007351063564943854, -0.001393434816155871, -0.0004873898896040757, 0.00034441088254433955, 0.0005297075000868651, -0.0004320963967661823, -0.00011560122742454871, 0.0006584705780644795, -4.913920814949386e-05, 0.00013926396159232024, 0.0004422087761030598, 0.0005081197250234315, -5.1402734105060466e-05, -0.0013281339139158133, 0.00043517193286637945, 0.0004488397827828762, -0.00166022348528376, -0.00020252486646704475, 0.002096644098159628, 0.0006021813745114152, 0.00043432123944728285, 0.00010817314382553182, -0.0005365342204302209, 0.000759994909718481, 4.284247488994808e-06, -0.00089960013447693, 1.479943188319524e-07, -5.7922095602737714e-05, -0.0005052994442765399, -0.0007700909735886552, -0.00012093111577044305, 0.0006024978649389612, -0.00044209916061244137, 2.7267532771421688e-05]\n"
     ]
    }
   ],
   "source": [
    "# The energy can be accessed:\n",
    "print(\"Total Energy (Hartree): \", qcschema['properties']['return_energy'] )"
   ]
  },
  {
   "attachments": {},
   "cell_type": "markdown",
   "metadata": {},
   "source": [
    "Other useful information is stored in the output dict, for example:"
   ]
  },
  {
   "cell_type": "code",
   "execution_count": 13,
   "metadata": {},
   "outputs": [
    {
     "name": "stdout",
     "output_type": "stream",
     "text": [
      "Number of Basis Functions:  191\n",
      "Total Energy (Hartree):  -307.12139651020345\n",
      "Nuclear Repulsion Energy (Hartree):  270.7004518261375\n",
      "Total Calculation Time (s):  6.6662819385528564\n"
     ]
    }
   ],
   "source": [
    "print(\"Number of Basis Functions: \", qcschema[\"properties\"][\"calcinfo_nbasis\"])\n",
    "print(\"Total Energy (Hartree): \", qcschema[\"properties\"][\"return_energy\"])\n",
    "print(\"Nuclear Repulsion Energy (Hartree): \", qcschema[\"properties\"][\"nuclear_repulsion_energy\"])\n",
    "print(\"Total Calculation Time (s): \", qcschema[\"provenance\"][\"total_time_seconds\"])"
   ]
  },
  {
   "cell_type": "markdown",
   "metadata": {},
   "source": [
    "## Output to QCSchema json file"
   ]
  },
  {
   "cell_type": "code",
   "execution_count": null,
   "metadata": {},
   "outputs": [],
   "source": [
    "import json\n",
    "n = job_name + \"_output\"\n",
    "with open(n+\".json\", \"w\") as fp:\n",
    "    json.dump(qcschema, fp)"
   ]
  }
 ],
 "metadata": {
  "kernel_info": {
   "name": "python3"
  },
  "kernelspec": {
   "display_name": "testtest",
   "language": "python",
   "name": "python3"
  },
  "language_info": {
   "codemirror_mode": {
    "name": "ipython",
    "version": 3
   },
   "file_extension": ".py",
   "mimetype": "text/x-python",
   "name": "python",
   "nbconvert_exporter": "python",
   "pygments_lexer": "ipython3",
   "version": "3.11.10"
  },
  "nteract": {
   "version": "nteract-front-end@1.0.0"
  }
 },
 "nbformat": 4,
 "nbformat_minor": 4
}

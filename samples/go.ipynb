{
 "cells": [
  {
   "cell_type": "markdown",
   "metadata": {
    "nteract": {
     "transient": {
      "deleting": false
     }
    }
   },
   "source": [
    "# Submission of Calculation with Subsequent Results Query\n",
    "\n",
    "In this demo, we will submit a calculation, check the status of the job and query the results after it is finished."
   ]
  },
  {
   "cell_type": "code",
   "execution_count": 14,
   "metadata": {
    "collapsed": false,
    "jupyter": {
     "outputs_hidden": false,
     "source_hidden": false
    },
    "nteract": {
     "transient": {
      "deleting": false
     }
    }
   },
   "outputs": [],
   "source": [
    "from azure.quantum import Workspace\n",
    "from azure.quantum.job import JobFailedWithResultsError\n",
    "\n",
    "# insert connection string form Azure Portal Workspace Access Keys\n",
    "connection_string = \"\"\n",
    "workspace = Workspace.from_connection_string(connection_string)"
   ]
  },
  {
   "cell_type": "code",
   "execution_count": 15,
   "metadata": {
    "collapsed": false,
    "jupyter": {
     "outputs_hidden": false,
     "source_hidden": false
    },
    "nteract": {
     "transient": {
      "deleting": false
     }
    }
   },
   "outputs": [
    {
     "name": "stdout",
     "output_type": "stream",
     "text": [
      "Verifying access to Accelerated DFT target.\n",
      "Verification complete.\n"
     ]
    }
   ],
   "source": [
    "# To submit Accelerated DFT jobs, we will be using the microsoft.dft target in the workspace.\n",
    "print(\"Verifying access to Accelerated DFT target.\")\n",
    "target = workspace.get_targets(\"microsoft.dft\")\n",
    "print(\"Verification complete.\")"
   ]
  },
  {
   "attachments": {},
   "cell_type": "markdown",
   "metadata": {
    "nteract": {
     "transient": {
      "deleting": false
     }
    }
   },
   "source": [
    "Now we submit the calculations to MADFT service.\n",
    "\n",
    "The QCSchema input below is for a DFT geometry optimization on the molecule phenol (with the geometry given in Bohr)"
   ]
  },
  {
   "cell_type": "code",
   "execution_count": 16,
   "metadata": {},
   "outputs": [],
   "source": [
    "# Note that for geometry optmimization, the input molecule field is 'initial_molecule'\n",
    "qcschema_input = {\n",
    "        \"schema_name\": \"qcschema_optimization_input\",\n",
    "        \"schema_version\": 1,\n",
    "        \"initial_molecule\": {\n",
    "            \"extras\": {},\n",
    "            \"symbols\": [\n",
    "                \"O\",\n",
    "                \"C\",\n",
    "                \"C\",\n",
    "                \"C\",\n",
    "                \"C\",\n",
    "                \"C\",\n",
    "                \"C\",\n",
    "                \"H\",\n",
    "                \"H\",\n",
    "                \"H\",\n",
    "                \"H\",\n",
    "                \"H\",\n",
    "                \"H\"\n",
    "            ],\n",
    "            \"geometry\": [\n",
    "                4.730542147965709,\n",
    "                0.034826575331843086,\n",
    "                0.07810088784463559,\n",
    "                2.1361232242687977,\n",
    "                0.017709001458524106,\n",
    "                0.009088108672780787,\n",
    "                0.7996954919209014,\n",
    "                2.290483253979806,\n",
    "                0.10106814673106823,\n",
    "                -1.8298562750208616,\n",
    "                2.2732950799384737,\n",
    "                -0.04537958079912547,\n",
    "                -3.1327572801516967,\n",
    "                -0.00564083248182671,\n",
    "                -0.28742004920350506,\n",
    "                -1.790388872477789,\n",
    "                -2.271959799458856,\n",
    "                -0.38978844089184156,\n",
    "                0.8394687277399734,\n",
    "                -2.2656284043593296,\n",
    "                -0.24392044354214196,\n",
    "                5.279447115915874,\n",
    "                -0.07938333158181043,\n",
    "                1.8109098053069272,\n",
    "                1.8583211818406624,\n",
    "                4.051452964636673,\n",
    "                0.2691141588512759,\n",
    "                -2.8675310249318393,\n",
    "                4.053900197762506,\n",
    "                0.0241508699472927,\n",
    "                -5.190440656400895,\n",
    "                -0.014523603513912258,\n",
    "                -0.4052054313284032,\n",
    "                -2.796624853566738,\n",
    "                -4.060585444078858,\n",
    "                -0.5909607661605761,\n",
    "                1.9285725820008635,\n",
    "                -4.013248220398251,\n",
    "                -0.3415529925897059\n",
    "            ]\n",
    "        },\n",
    "        \"input_specification\": {\n",
    "            \"driver\": \"gradient\",\n",
    "            \"model\": {\n",
    "                \"method\": \"m06-2x\",\n",
    "                \"basis\": \"def2-svp\"\n",
    "            }\n",
    "        }\n",
    "    }"
   ]
  },
  {
   "cell_type": "code",
   "execution_count": 17,
   "metadata": {},
   "outputs": [
    {
     "data": {
      "text/plain": [
       "<azure.quantum.target.microsoft.elements.dft.job.MicrosoftElementsDftJob at 0x7f2bd829d290>"
      ]
     },
     "execution_count": 17,
     "metadata": {},
     "output_type": "execute_result"
    }
   ],
   "source": [
    "# Submit jobs:\n",
    "job_name = 'phenol_go' \n",
    "target.submit(input_data=[qcschema_input],name=job_name)"
   ]
  },
  {
   "attachments": {},
   "cell_type": "markdown",
   "metadata": {},
   "source": [
    "# Query Job Status and Retreive Results"
   ]
  },
  {
   "cell_type": "markdown",
   "metadata": {
    "nteract": {
     "transient": {
      "deleting": false
     }
    }
   },
   "source": [
    "We can retrieve information about a job through [Workspace.get_job](https://learn.microsoft.com/en-us/azure/quantum/optimization-job-management), and also query the results by filtering the job name with [Workspace.list_jobs](https://learn.microsoft.com/en-us/azure/quantum/optimization-job-management)."
   ]
  },
  {
   "cell_type": "code",
   "execution_count": 19,
   "metadata": {
    "collapsed": false,
    "jupyter": {
     "outputs_hidden": false,
     "source_hidden": false
    },
    "nteract": {
     "transient": {
      "deleting": false
     }
    }
   },
   "outputs": [
    {
     "name": "stdout",
     "output_type": "stream",
     "text": [
      "Job: \"phenol_go\" is Succeeded\n"
     ]
    }
   ],
   "source": [
    "# query the latest job that match the given name\n",
    "job = workspace.list_jobs(name_match=job_name)[-1]\n",
    "\n",
    "# refresh the job SAS for using the API\n",
    "job.refresh()\n",
    "\n",
    "# show the status of the job\n",
    "print(f'Job: \"{job_name}\" is {job.details.status}')"
   ]
  },
  {
   "cell_type": "code",
   "execution_count": 20,
   "metadata": {
    "collapsed": false,
    "jupyter": {
     "outputs_hidden": false,
     "source_hidden": false
    },
    "nteract": {
     "transient": {
      "deleting": false
     }
    }
   },
   "outputs": [
    {
     "name": "stdout",
     "output_type": "stream",
     "text": [
      " Job Succeeded \n"
     ]
    }
   ],
   "source": [
    "# read the results of the job\n",
    "if job.details.status == 'Succeeded':\n",
    "    print(\" Job Succeeded \")\n",
    "    results = job.get_results()\n",
    "    # QCSchema Output\n",
    "    qcschema = results[\"results\"][0]\n",
    "else:\n",
    "    results = f'\"{job_name}\" is {job.details.status}...'\n"
   ]
  },
  {
   "attachments": {},
   "cell_type": "markdown",
   "metadata": {},
   "source": [
    "# Results"
   ]
  },
  {
   "attachments": {},
   "cell_type": "markdown",
   "metadata": {},
   "source": [
    "The results of the calculation are stored in the QCSchema format dict.\n",
    "\n",
    "We can print the energy of the optimized structure:"
   ]
  },
  {
   "cell_type": "code",
   "execution_count": 21,
   "metadata": {},
   "outputs": [
    {
     "name": "stdout",
     "output_type": "stream",
     "text": [
      "Total Energy of optimized geometry (Hartree):  -307.1041205787441\n"
     ]
    }
   ],
   "source": [
    "# The energy can be accessed:\n",
    "\n",
    "print(\"Total Energy of optimized geometry (Hartree): \", qcschema[\"energies\"][-1])"
   ]
  },
  {
   "attachments": {},
   "cell_type": "markdown",
   "metadata": {},
   "source": [
    "We can print the coordinates of the optimized geometry. Note that QCSchema output uses Bohr."
   ]
  },
  {
   "cell_type": "code",
   "execution_count": 30,
   "metadata": {},
   "outputs": [
    {
     "name": "stdout",
     "output_type": "stream",
     "text": [
      "Geometry in Bohr\n",
      "[[ 4.73022902  0.03386118  0.0777041 ]\n",
      " [ 2.13574875  0.01746496  0.00889083]\n",
      " [ 0.79944694  2.29028248  0.10084778]\n",
      " [-1.8301604   2.2730637  -0.04546647]\n",
      " [-3.13299875 -0.00582002 -0.28754239]\n",
      " [-1.7907981  -2.27225391 -0.39007255]\n",
      " [ 0.83898948 -2.26583795 -0.24409322]\n",
      " [ 5.27894218 -0.07729315  1.81079002]\n",
      " [ 1.85800432  4.05132768  0.26855208]\n",
      " [-2.86767161  4.0537677   0.02398202]\n",
      " [-5.19069024 -0.01466732 -0.40521116]\n",
      " [-2.79714373 -4.06082458 -0.59117622]\n",
      " [ 1.92810522 -4.01343886 -0.34167041]]\n",
      "\n",
      "\n",
      " Geometry in Angstrom\n",
      "[[ 2.5031284   0.01791856  0.04111922]\n",
      " [ 1.13018912  0.00924206  0.00470482]\n",
      " [ 0.42304893  1.21196481  0.05336633]\n",
      " [-0.96847879  1.20285303 -0.02405981]\n",
      " [-1.65791088 -0.00307982 -0.15216082]\n",
      " [-0.94764917 -1.20242451 -0.20641742]\n",
      " [ 0.44397394 -1.19902933 -0.12916852]\n",
      " [ 2.79349479 -0.04090176  0.95822843]\n",
      " [ 0.98321315  2.14386943  0.14211158]\n",
      " [-1.51750586  2.14516063  0.01269073]\n",
      " [-2.74679389 -0.00776161 -0.21442843]\n",
      " [-1.48018413 -2.14889497 -0.31283686]\n",
      " [ 1.02030894 -2.12381954 -0.18080412]]\n"
     ]
    }
   ],
   "source": [
    "import numpy as np\n",
    "syms = np.array(qcschema[\"final_molecule\"][\"symbols\"])\n",
    "coords = np.array(qcschema[\"final_molecule\"][\"geometry\"] )\n",
    "NAtoms = len(syms)\n",
    "\n",
    "print(\"Geometry in Bohr\")\n",
    "coords_bohr = np.reshape(coords, (-1,3))\n",
    "print(coords_bohr)\n",
    "print(\"\")\n",
    "\n",
    "# Convert coordinates to Angstrom\n",
    "bohr_to_angstrom = 0.529177\n",
    "coords_angstrom = coords * bohr_to_angstrom\n",
    "coords_angstrom = np.reshape(coords_angstrom, (NAtoms,3))\n",
    "print(f'\\n Geometry in Angstrom')\n",
    "print(coords_angstrom)\n"
   ]
  },
  {
   "cell_type": "markdown",
   "metadata": {},
   "source": [
    "## Output to QCSchema json file"
   ]
  },
  {
   "cell_type": "code",
   "execution_count": 12,
   "metadata": {},
   "outputs": [],
   "source": [
    "import json\n",
    "n = job_name + \"_output\"\n",
    "with open(n+\".json\", \"w\") as fp:\n",
    "    json.dump(qcschema, fp, indent=4)"
   ]
  }
 ],
 "metadata": {
  "kernel_info": {
   "name": "python3"
  },
  "kernelspec": {
   "display_name": "testtest",
   "language": "python",
   "name": "python3"
  },
  "language_info": {
   "codemirror_mode": {
    "name": "ipython",
    "version": 3
   },
   "file_extension": ".py",
   "mimetype": "text/x-python",
   "name": "python",
   "nbconvert_exporter": "python",
   "pygments_lexer": "ipython3",
   "version": "3.11.10"
  },
  "nteract": {
   "version": "nteract-front-end@1.0.0"
  }
 },
 "nbformat": 4,
 "nbformat_minor": 4
}

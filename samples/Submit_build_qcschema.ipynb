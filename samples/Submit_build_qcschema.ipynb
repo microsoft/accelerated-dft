{
 "cells": [
  {
   "attachments": {},
   "cell_type": "markdown",
   "metadata": {
    "nteract": {
     "transient": {
      "deleting": false
     }
    }
   },
   "source": [
    "# ADFT Input Examples\n",
    "\n",
    "In this demo, we submit a calculation, check the status of the job and query the results after it is finished.    \n",
    "\n",
    "We demonstrate different options for building input for ADFT."
   ]
  },
  {
   "cell_type": "code",
   "execution_count": 1,
   "metadata": {
    "collapsed": false,
    "jupyter": {
     "outputs_hidden": false,
     "source_hidden": false
    },
    "nteract": {
     "transient": {
      "deleting": false
     }
    }
   },
   "outputs": [],
   "source": [
    "from azure.quantum import Workspace\n",
    "from azure.quantum.job import JobFailedWithResultsError\n",
    "\n",
    "# insert connection string form Azure Portal Workspace Access Keys\n",
    "connection_string = \"\"\n",
    "\n",
    "workspace = Workspace.from_connection_string(connection_string)"
   ]
  },
  {
   "cell_type": "code",
   "execution_count": 2,
   "metadata": {
    "collapsed": false,
    "jupyter": {
     "outputs_hidden": false,
     "source_hidden": false
    },
    "nteract": {
     "transient": {
      "deleting": false
     }
    }
   },
   "outputs": [
    {
     "name": "stdout",
     "output_type": "stream",
     "text": [
      "Verifying access to Accelerated DFT target.\n",
      "Verification complete.\n"
     ]
    }
   ],
   "source": [
    "# To submit Accelerated DFT jobs, we will be using the microsoft.dft target in the workspace.\n",
    "print(\"Verifying access to Accelerated DFT target.\")\n",
    "target = workspace.get_targets(\"microsoft.dft\")\n",
    "print(\"Verification complete.\")"
   ]
  },
  {
   "attachments": {},
   "cell_type": "markdown",
   "metadata": {
    "nteract": {
     "transient": {
      "deleting": false
     }
    }
   },
   "source": [
    "# Section 1: QCSchema Input"
   ]
  },
  {
   "attachments": {},
   "cell_type": "markdown",
   "metadata": {},
   "source": [
    "ADFT supports the QCSchema input format, an open standard for compatibility across computational chemistry software.    \n",
    "An example of this format is shown below. Note the 'driver' here is 'energy', which will perform a single point energy calculation.    \n",
    "The driver may also be 'gradient', 'hessian', 'go' or 'bomd', see the documentation for more detail.     \n",
    "\n",
    "In this format the atom labels and coordinates are separated into separate arrays. Note that QCSchema coordinates are in Bohr.        \n"
   ]
  },
  {
   "cell_type": "code",
   "execution_count": 27,
   "metadata": {},
   "outputs": [],
   "source": [
    "qcschema_input = {\n",
    "    \"driver\": \"energy\",\n",
    "    \"model\": {\n",
    "        \"method\": \"m06-2x\",\n",
    "        \"basis\": \"def2-svpd\"\n",
    "    },\n",
    "    \"schema_name\": \"qcschema_input\",\n",
    "    \"schema_version\": 1,\n",
    "    \"molecule\": {\n",
    "        \"extras\": {},\n",
    "        \"symbols\": [\n",
    "            \"O\",\n",
    "            \"C\",\n",
    "            \"C\",\n",
    "            \"C\",\n",
    "            \"C\",\n",
    "            \"C\",\n",
    "            \"C\",\n",
    "            \"H\",\n",
    "            \"H\",\n",
    "            \"H\",\n",
    "            \"H\",\n",
    "            \"H\",\n",
    "            \"H\"\n",
    "        ],\n",
    "        \"geometry\": [\n",
    "            4.730542147965709,\n",
    "            0.034826575331843086,\n",
    "            0.07810088784463559,\n",
    "            2.1361232242687977,\n",
    "            0.017709001458524106,\n",
    "            0.009088108672780787,\n",
    "            0.7996954919209014,\n",
    "            2.290483253979806,\n",
    "            0.10106814673106823,\n",
    "            -1.8298562750208616,\n",
    "            2.2732950799384737,\n",
    "            -0.04537958079912547,\n",
    "            -3.1327572801516967,\n",
    "            -0.00564083248182671,\n",
    "            -0.28742004920350506,\n",
    "            -1.790388872477789,\n",
    "            -2.271959799458856,\n",
    "            -0.38978844089184156,\n",
    "            0.8394687277399734,\n",
    "            -2.2656284043593296,\n",
    "            -0.24392044354214196,\n",
    "            5.279447115915874,\n",
    "            -0.07938333158181043,\n",
    "            1.8109098053069272,\n",
    "            1.8583211818406624,\n",
    "            4.051452964636673,\n",
    "            0.2691141588512759,\n",
    "            -2.8675310249318393,\n",
    "            4.053900197762506,\n",
    "            0.0241508699472927,\n",
    "            -5.190440656400895,\n",
    "            -0.014523603513912258,\n",
    "            -0.4052054313284032,\n",
    "            -2.796624853566738,\n",
    "            -4.060585444078858,\n",
    "            -0.5909607661605761,\n",
    "            1.9285725820008635,\n",
    "            -4.013248220398251,\n",
    "            -0.3415529925897059\n",
    "        ],\n",
    "        \"molecular_charge\": 0, \n",
    "        \"molecular_multiplicity\": 1\n",
    "    }\n",
    "}"
   ]
  },
  {
   "cell_type": "code",
   "execution_count": 28,
   "metadata": {},
   "outputs": [
    {
     "name": "stdout",
     "output_type": "stream",
     "text": [
      "\n",
      "DFT job has been submitted.\n",
      ".............\n",
      "DFT job completed.\n"
     ]
    }
   ],
   "source": [
    "job_1 = target.submit(input_data=[qcschema_input],name='phenol_spe_method_1')\n",
    "print(\"\\nDFT job has been submitted.\")\n",
    "job_1.wait_until_completed()\n",
    "print(\"\\nDFT job completed.\")"
   ]
  },
  {
   "attachments": {},
   "cell_type": "markdown",
   "metadata": {},
   "source": [
    "# Section 2: Submitting using an XYZ file and a partial Schema\n"
   ]
  },
  {
   "attachments": {},
   "cell_type": "markdown",
   "metadata": {},
   "source": [
    "ADFT calculations can also be submitted using an xyz file and a partial QCSchema input via use of the Azure-Quantum SDK.    \n",
    "Note that the charge and mutliplicity cannot be changed from neutral singlet and it is suggested to use method 1 or 3. "
   ]
  },
  {
   "cell_type": "code",
   "execution_count": 11,
   "metadata": {},
   "outputs": [
    {
     "name": "stdout",
     "output_type": "stream",
     "text": [
      "\n",
      "DFT job has been submitted.\n",
      ".............\n",
      "DFT job completed.\n"
     ]
    }
   ],
   "source": [
    "import glob\n",
    "\n",
    "# Next, we create a dictionary variable to specify the parameters for the DFT calculation. \n",
    "params = {\n",
    "    \"driver\": \"energy\",\n",
    "    \"model\": { \"method\": \"m06-2x\", \"basis\": \"def2-svpd\" },\n",
    "    \"keywords\": {\n",
    "        \"max_scf_steps\": 100,\n",
    "        \"convergence_threshold\": 1e-8,\n",
    "    },\n",
    "}\n",
    "\n",
    "# specify the molecule:\n",
    "xyz_file = glob.glob('molecules/phenol.xyz')\n",
    "\n",
    "# We are now ready to submit the Job using the target.submit call. It takes three parameters-\n",
    "# 1. The input molecule in xyz format.\n",
    "# 2. The DFT parameters that we declared above.\n",
    "# 3. A friendly name to help identify the job in the Azure Portal later.\n",
    "\n",
    "job_2 = target.submit(\n",
    "    input_params=params,\n",
    "    #input_data=['molecules/phenol.xyz'],\n",
    "    input_data=xyz_file,\n",
    "    name='phenol_spe_method_2',\n",
    ")\n",
    "\n",
    "print(\"\\nDFT job has been submitted.\")\n",
    "job_2.wait_until_completed() # this would wait until each ADFT calculation is completed\n",
    "print(\"\\nDFT job completed.\")"
   ]
  },
  {
   "attachments": {},
   "cell_type": "markdown",
   "metadata": {},
   "source": [
    "# Section 3: Building a QCSchema Input Using Azure_quantum SDK"
   ]
  },
  {
   "attachments": {},
   "cell_type": "markdown",
   "metadata": {},
   "source": [
    "The main input of ADFT is the QCSchema format.    \n",
    "It is therefore advantageous to use this format and offers the most flexibility in input.       \n",
    "Additionally, if the charge and multiplicity are to be altered from a neutral singlet the QCSchema is the way to do this."
   ]
  },
  {
   "cell_type": "code",
   "execution_count": 14,
   "metadata": {},
   "outputs": [],
   "source": [
    "xyz_files = ['molecules/phenol.xyz']\n",
    "params = {\n",
    "    \"driver\": \"energy\",\n",
    "    \"model\": { \n",
    "        \"method\": \"m06-2x\", \n",
    "        \"basis\": \"def2-svpd\" \n",
    "    }\n",
    "}\n",
    "\n",
    "# create input qcschema\n",
    "qcschema_input = target.assemble_qcschema_from_files(xyz_files, params)\n",
    "\n",
    "# view the fields using qcschema_input.keys()\n",
    "\n",
    "# specifiy charge and multiplicity\n",
    "#  (note the index '0' as we only have a single qcschema) \n",
    "qcschema_input[0]['molecule']['molecular_charge'] = 0\n",
    "qcschema_input[0]['molecule']['molecular_multiplicity'] = 1 "
   ]
  },
  {
   "cell_type": "code",
   "execution_count": 15,
   "metadata": {},
   "outputs": [
    {
     "name": "stdout",
     "output_type": "stream",
     "text": [
      "\n",
      "DFT job has been submitted.\n",
      ".............\n",
      "DFT job completed.\n"
     ]
    }
   ],
   "source": [
    "job_3 = target.submit(input_data=qcschema_input,name='phenol_spe_method_3')\n",
    "print(\"\\nDFT job has been submitted.\")\n",
    "job_3.wait_until_completed()\n",
    "print(\"\\nDFT job completed.\")"
   ]
  },
  {
   "attachments": {},
   "cell_type": "markdown",
   "metadata": {},
   "source": [
    "# Query Job Status and Retreive Results"
   ]
  },
  {
   "cell_type": "markdown",
   "metadata": {
    "nteract": {
     "transient": {
      "deleting": false
     }
    }
   },
   "source": [
    "We can retrieve information about a job through [Workspace.get_job](https://learn.microsoft.com/en-us/azure/quantum/optimization-job-management), and also query the results by filtering the job name with [Workspace.list_jobs](https://learn.microsoft.com/en-us/azure/quantum/optimization-job-management)."
   ]
  },
  {
   "cell_type": "code",
   "execution_count": 29,
   "metadata": {},
   "outputs": [],
   "source": [
    "results_1 = job_1.get_results()\n",
    "results_2 = job_2.get_results()\n",
    "results_3 = job_3.get_results()\n",
    "\n",
    "# QCSchema Output\n",
    "qcschema_1 = results_1[\"results\"][0]\n",
    "qcschema_2 = results_2[\"results\"][0]\n",
    "qcschema_3 = results_3[\"results\"][0]"
   ]
  },
  {
   "cell_type": "code",
   "execution_count": 30,
   "metadata": {},
   "outputs": [
    {
     "name": "stdout",
     "output_type": "stream",
     "text": [
      "Method 1, Total Energy (Hartree): -307.12139308\n",
      "Method 2, Total Energy (Hartree): -307.12139308\n",
      "Method 3, Total Energy (Hartree): -307.12139308\n"
     ]
    }
   ],
   "source": [
    "# The energy can be accessed:\n",
    "print(\"Method 1, Total Energy (Hartree): {:.8f}\".format(qcschema_1['properties']['return_energy']))\n",
    "# The energy can be accessed:\n",
    "print(\"Method 2, Total Energy (Hartree): {:.8f}\".format(qcschema_2['properties']['return_energy']))\n",
    "# The energy can be accessed:\n",
    "print(\"Method 3, Total Energy (Hartree): {:.8f}\".format(qcschema_3['properties']['return_energy']))"
   ]
  },
  {
   "cell_type": "code",
   "execution_count": null,
   "metadata": {},
   "outputs": [],
   "source": []
  }
 ],
 "metadata": {
  "kernel_info": {
   "name": "python3"
  },
  "kernelspec": {
   "display_name": "testtest",
   "language": "python",
   "name": "python3"
  },
  "language_info": {
   "codemirror_mode": {
    "name": "ipython",
    "version": 3
   },
   "file_extension": ".py",
   "mimetype": "text/x-python",
   "name": "python",
   "nbconvert_exporter": "python",
   "pygments_lexer": "ipython3",
   "version": "3.11.10"
  },
  "nteract": {
   "version": "nteract-front-end@1.0.0"
  }
 },
 "nbformat": 4,
 "nbformat_minor": 4
}

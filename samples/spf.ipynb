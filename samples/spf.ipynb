{
 "cells": [
  {
   "cell_type": "markdown",
   "metadata": {
    "nteract": {
     "transient": {
      "deleting": false
     }
    }
   },
   "source": [
    "# Submission of Calculation with Subsequent Results Query\n",
    "\n",
    "In this demo, we will submit a calculation, check the status of the job and query the results after it is finished."
   ]
  },
  {
   "cell_type": "code",
   "execution_count": null,
   "metadata": {
    "collapsed": false,
    "jupyter": {
     "outputs_hidden": false,
     "source_hidden": false
    },
    "nteract": {
     "transient": {
      "deleting": false
     }
    }
   },
   "outputs": [],
   "source": [
    "from azure.quantum import Workspace\n",
    "from azure.quantum.job import JobFailedWithResultsError\n",
    "\n",
    "# insert connection string form Azure Portal Workspace Access Keys\n",
    "connection_string = \"\" \n",
    "workspace = Workspace.from_connection_string(connection_string)"
   ]
  },
  {
   "cell_type": "code",
   "execution_count": null,
   "metadata": {
    "collapsed": false,
    "jupyter": {
     "outputs_hidden": false,
     "source_hidden": false
    },
    "nteract": {
     "transient": {
      "deleting": false
     }
    }
   },
   "outputs": [],
   "source": [
    "print(\"Verifying access to DFT target.\")\n",
    "\n",
    "# To submit DFT jobs, we will be using the microsoft.dft target in the workspace.\n",
    "target = workspace.get_targets(\"microsoft.dft\")"
   ]
  },
  {
   "cell_type": "code",
   "execution_count": null,
   "metadata": {
    "collapsed": false,
    "jupyter": {
     "outputs_hidden": false,
     "source_hidden": false
    },
    "nteract": {
     "transient": {
      "deleting": false
     }
    }
   },
   "outputs": [],
   "source": [
    "# First, let's define the molecular structure as xyz string\n",
    "\n",
    "input_data = '''13\n",
    "C6H6O\n",
    "O            2.5032951000       0.0184294300       0.0413292100\n",
    "C            1.1303877300       0.0093712000       0.0048092200\n",
    "C            0.4231806300       1.2120715400       0.0534829600\n",
    "C           -0.9683182400       1.2029759500      -0.0240138400\n",
    "C           -1.6577837600      -0.0029850000      -0.1520961400\n",
    "C           -0.9474329900      -1.2022693500      -0.2062671600\n",
    "C            0.4442277200      -1.1989189200      -0.1290771400\n",
    "H            2.7937631000      -0.0420078500       0.9582922000\n",
    "H            0.9833812200       2.1439365800       0.1424090800\n",
    "H           -1.5174320700       2.1452316000       0.0127800900\n",
    "H           -2.7466629100      -0.0076855600      -0.2144254800\n",
    "H           -1.4799101400      -2.1487692800      -0.3127229700\n",
    "H            1.0205566600      -2.1237195000      -0.1807420600\n",
    "'''"
   ]
  },
  {
   "cell_type": "code",
   "execution_count": null,
   "metadata": {},
   "outputs": [],
   "source": [
    "# Secondly, let's give a name for the job.\n",
    "job_name = 'C6H6O_spf'"
   ]
  },
  {
   "cell_type": "markdown",
   "metadata": {
    "nteract": {
     "transient": {
      "deleting": false
     }
    }
   },
   "source": [
    "Now we submit the calculations to MADFT service, looping over three different basis sets."
   ]
  },
  {
   "cell_type": "code",
   "execution_count": null,
   "metadata": {
    "collapsed": false,
    "jupyter": {
     "outputs_hidden": false,
     "source_hidden": false
    },
    "nteract": {
     "transient": {
      "deleting": false
     }
    }
   },
   "outputs": [],
   "source": [
    "# Next, we create a dictionary variable to specify the parameters for the DFT calculation. \n",
    "dft_input_params = {\n",
    "  \"tasks\": [\n",
    "    {\n",
    "      \"taskType\": \"spf\", \n",
    "      \"basisSet\": { \"name\": 'def2-svpd'},\n",
    "      \"xcFunctional\": { \"name\": \"b3lyp\", \"gridLevel\": 4 },\n",
    "      \"molecule\": { \"charge\": 0, \"multiplicity\": 1 },\n",
    "      \"scf\": { \"method\": \"rks\", \"maxSteps\": 100, \"convergeThreshold\": 1e-8 }\n",
    "    }\n",
    "  ]\n",
    "}\n",
    "\n",
    "# We are now ready to submit the Job using the target.submit call. It takes three parameters-\n",
    "# 1. The input molecule in xyz format.\n",
    "# 2. The DFT parameters that we declared above.\n",
    "# 3. A friendly name to help identify the job in the Azure Portal later.\n",
    "\n",
    "print(\"Submitting DFT job.\")\n",
    "\n",
    "job = target.submit(\n",
    "    input_data = input_data,\n",
    "    input_params = dft_input_params,\n",
    "    name= job_name)\n",
    "    \n",
    "print(\"\\nDFT job has been submitted.\")\n",
    "print(f\"\\nJob name: {job_name}\")\n"
   ]
  },
  {
   "cell_type": "markdown",
   "metadata": {
    "nteract": {
     "transient": {
      "deleting": false
     }
    }
   },
   "source": [
    "We can retrieve information about a job through [Workspace.get_job](https://learn.microsoft.com/en-us/azure/quantum/optimization-job-management), and also query the results by filtering the job name with [Workspace.list_jobs](https://learn.microsoft.com/en-us/azure/quantum/optimization-job-management)."
   ]
  },
  {
   "cell_type": "code",
   "execution_count": null,
   "metadata": {
    "collapsed": false,
    "jupyter": {
     "outputs_hidden": false,
     "source_hidden": false
    },
    "nteract": {
     "transient": {
      "deleting": false
     }
    }
   },
   "outputs": [],
   "source": [
    "# query the latest job that match the given name\n",
    "job = workspace.list_jobs(name_match=job_name)[-1]\n",
    "\n",
    "# refresh the job SAS for using the API\n",
    "job.refresh()\n",
    "\n",
    "# show the status of the job\n",
    "print(f'Job: \"{job_name}\" is {job.details.status}')"
   ]
  },
  {
   "cell_type": "code",
   "execution_count": null,
   "metadata": {
    "collapsed": false,
    "jupyter": {
     "outputs_hidden": false,
     "source_hidden": false
    },
    "nteract": {
     "transient": {
      "deleting": false
     }
    }
   },
   "outputs": [],
   "source": [
    "# read the results of the job\n",
    "if job.details.status == 'Succeeded':\n",
    "    results = job.get_results()\n",
    "else:\n",
    "    results = f'\"{job_name}\" is still {job.details.status}...'\n",
    "\n",
    "# QCSchema Output\n",
    "qcschema = results[\"results\"][0]\n",
    "# Return the force:\n",
    "qcschema[\"return_result\"]"
   ]
  },
  {
   "cell_type": "markdown",
   "metadata": {},
   "source": [
    "## Output to QCSchema json file"
   ]
  },
  {
   "cell_type": "code",
   "execution_count": null,
   "metadata": {},
   "outputs": [],
   "source": [
    "import json\n",
    "n = job_name + \"_output\"\n",
    "with open(n+\".json\", \"w\") as fp:\n",
    "    json.dump(qcschema, fp)"
   ]
  },
  {
   "cell_type": "code",
   "execution_count": null,
   "metadata": {},
   "outputs": [],
   "source": []
  }
 ],
 "metadata": {
  "kernel_info": {
   "name": "python3"
  },
  "kernelspec": {
   "display_name": "Python [conda env:.conda-dft]",
   "language": "python",
   "name": "conda-env-.conda-dft-py"
  },
  "language_info": {
   "codemirror_mode": {
    "name": "ipython",
    "version": 3
   },
   "file_extension": ".py",
   "mimetype": "text/x-python",
   "name": "python",
   "nbconvert_exporter": "python",
   "pygments_lexer": "ipython3",
   "version": "3.11.8"
  },
  "nteract": {
   "version": "nteract-front-end@1.0.0"
  }
 },
 "nbformat": 4,
 "nbformat_minor": 4
}

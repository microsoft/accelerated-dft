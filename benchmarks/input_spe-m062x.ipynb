{
 "cells": [
  {
   "cell_type": "markdown",
   "metadata": {
    "nteract": {
     "transient": {
      "deleting": false
     }
    }
   },
   "source": [
    "# Submission of Calculation with Subsequent Results Query\n",
    "\n",
    "In this demo, we will submit a calculation, check the status of the job and query the results after it is finished."
   ]
  },
  {
   "cell_type": "code",
   "execution_count": null,
   "metadata": {
    "collapsed": false,
    "jupyter": {
     "outputs_hidden": false,
     "source_hidden": false
    },
    "nteract": {
     "transient": {
      "deleting": false
     }
    }
   },
   "outputs": [],
   "source": [
    "from azure.quantum import Workspace\n",
    "from azure.quantum.job import JobFailedWithResultsError\n",
    "\n",
    "# insert connection string form Azure Portal Workspace Access Keys\n",
    "connection_string = \"\" \n",
    "workspace = Workspace.from_connection_string(connection_string)"
   ]
  },
  {
   "cell_type": "code",
   "execution_count": null,
   "metadata": {
    "collapsed": false,
    "jupyter": {
     "outputs_hidden": false,
     "source_hidden": false
    },
    "nteract": {
     "transient": {
      "deleting": false
     }
    }
   },
   "outputs": [],
   "source": [
    "print(\"Verifying access to DFT target.\")\n",
    "\n",
    "# To submit DFT jobs, we will be using the microsoft.dft target in the workspace.\n",
    "target = workspace.get_targets(\"microsoft.dft\")"
   ]
  },
  {
   "cell_type": "code",
   "execution_count": null,
   "metadata": {
    "collapsed": false,
    "jupyter": {
     "outputs_hidden": false,
     "source_hidden": false
    },
    "nteract": {
     "transient": {
      "deleting": false
     }
    }
   },
   "outputs": [],
   "source": [
    "# First, let's define the molecular structure, loaded from an xyz file.\n",
    "from pathlib import Path\n",
    "GeomFile = \"aspirin.xyz\""
   ]
  },
  {
   "cell_type": "code",
   "execution_count": null,
   "metadata": {},
   "outputs": [],
   "source": [
    "# Secondly, let's give a name for the job.\n",
    "job_name = 'aspirin_spe'"
   ]
  },
  {
   "cell_type": "markdown",
   "metadata": {
    "nteract": {
     "transient": {
      "deleting": false
     }
    }
   },
   "source": [
    "Now we submit the calculations to MADFT service, looping over three different basis sets."
   ]
  },
  {
   "cell_type": "code",
   "execution_count": null,
   "metadata": {
    "collapsed": false,
    "jupyter": {
     "outputs_hidden": false,
     "source_hidden": false
    },
    "nteract": {
     "transient": {
      "deleting": false
     }
    }
   },
   "outputs": [],
   "source": [
    "# Next, we create a dictionary variable to specify the parameters for the DFT calculation. \n",
    "dft_input_params = {\n",
    "  \"tasks\": [\n",
    "    {\n",
    "      \"taskType\": \"spe\", \n",
    "      \"basisSet\": { \"name\": 'def2-tzvpp'},\n",
    "      \"xcFunctional\": { \"name\": \"m06-2x\", \"gridLevel\": 4 },\n",
    "      \"molecule\": { \"charge\": 0, \"multiplicity\": 1 },\n",
    "      \"scf\": { \"method\": \"rks\", \"maxSteps\": 100, \"convergeThreshold\": 1e-8 }\n",
    "    }\n",
    "  ]\n",
    "}\n",
    "\n",
    "# We are now ready to submit the Job using the target.submit call. It takes three parameters-\n",
    "# 1. The input molecule in xyz format.\n",
    "# 2. The DFT parameters that we declared above.\n",
    "# 3. A friendly name to help identify the job in the Azure Portal later.\n",
    "\n",
    "print(\"Submitting DFT job.\")\n",
    "\n",
    "job = target.submit(\n",
    "    input_data=Path(GeomFile).read_text(),\n",
    "    input_params = dft_input_params,\n",
    "    name= job_name)\n",
    "    \n",
    "print(\"\\nDFT job has been submitted.\")\n",
    "print(f\"\\nJob name: {job_name}\")\n"
   ]
  },
  {
   "cell_type": "markdown",
   "metadata": {
    "nteract": {
     "transient": {
      "deleting": false
     }
    }
   },
   "source": [
    "We can retrieve information about a job through [Workspace.get_job](https://learn.microsoft.com/en-us/azure/quantum/optimization-job-management), and also query the results by filtering the job name with [Workspace.list_jobs](https://learn.microsoft.com/en-us/azure/quantum/optimization-job-management)."
   ]
  },
  {
   "cell_type": "code",
   "execution_count": null,
   "metadata": {
    "collapsed": false,
    "jupyter": {
     "outputs_hidden": false,
     "source_hidden": false
    },
    "nteract": {
     "transient": {
      "deleting": false
     }
    }
   },
   "outputs": [],
   "source": [
    "# query the latest job that match the given name\n",
    "job = workspace.list_jobs(name_match=job_name)[-1]\n",
    "\n",
    "# refresh the job SAS for using the API\n",
    "job.refresh()\n",
    "\n",
    "# show the status of the job\n",
    "print(f'Job: \"{job_name}\" is {job.details.status}')"
   ]
  },
  {
   "cell_type": "code",
   "execution_count": null,
   "metadata": {
    "collapsed": false,
    "jupyter": {
     "outputs_hidden": false,
     "source_hidden": false
    },
    "nteract": {
     "transient": {
      "deleting": false
     }
    }
   },
   "outputs": [],
   "source": [
    "# read the results of the job\n",
    "if job.details.status == 'Succeeded':\n",
    "    results = job.get_results()\n",
    "else:\n",
    "    results = f'\"{job_name}\" is still {job.details.status}...'\n",
    "\n",
    "# QCSchema Output\n",
    "qcschema = results[\"results\"][0]\n",
    "qcschema[\"return_result\"]"
   ]
  },
  {
   "cell_type": "markdown",
   "metadata": {},
   "source": [
    "## Output to QCSchema json file"
   ]
  },
  {
   "cell_type": "code",
   "execution_count": null,
   "metadata": {},
   "outputs": [],
   "source": [
    "import json\n",
    "n = job_name + \"_output\"\n",
    "with open(n+\".json\", \"w\") as fp:\n",
    "    json.dump(qcschema, fp)"
   ]
  },
  {
   "cell_type": "code",
   "execution_count": null,
   "metadata": {},
   "outputs": [],
   "source": []
  }
 ],
 "metadata": {
  "kernel_info": {
   "name": "python3"
  },
  "kernelspec": {
   "display_name": "Python [conda env:.conda-dft]",
   "language": "python",
   "name": "conda-env-.conda-dft-py"
  },
  "language_info": {
   "codemirror_mode": {
    "name": "ipython",
    "version": 3
   },
   "file_extension": ".py",
   "mimetype": "text/x-python",
   "name": "python",
   "nbconvert_exporter": "python",
   "pygments_lexer": "ipython3",
   "version": "3.11.8"
  },
  "nteract": {
   "version": "nteract-front-end@1.0.0"
  }
 },
 "nbformat": 4,
 "nbformat_minor": 4
}
